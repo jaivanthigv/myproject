{
 "cells": [
  {
   "cell_type": "code",
   "execution_count": 3,
   "id": "afa403fc-8a8c-40f7-b7d4-0c45505ec961",
   "metadata": {},
   "outputs": [],
   "source": [
    "import nltk"
   ]
  },
  {
   "cell_type": "code",
   "execution_count": 4,
   "id": "c91c450f-224b-4773-be57-73139d450e1e",
   "metadata": {},
   "outputs": [
    {
     "name": "stderr",
     "output_type": "stream",
     "text": [
      "[nltk_data] Downloading package punkt_tab to\n",
      "[nltk_data]     C:\\Users\\HP\\AppData\\Roaming\\nltk_data...\n",
      "[nltk_data]   Unzipping tokenizers\\punkt_tab.zip.\n"
     ]
    },
    {
     "data": {
      "text/plain": [
       "True"
      ]
     },
     "execution_count": 4,
     "metadata": {},
     "output_type": "execute_result"
    }
   ],
   "source": [
    "nltk.download(\"punkt_tab\")"
   ]
  },
  {
   "cell_type": "code",
   "execution_count": 13,
   "id": "1c59e310-ec5e-4388-914a-ef27dd2fe6d4",
   "metadata": {},
   "outputs": [],
   "source": [
    "import pandas as pd\n",
    "from sklearn.feature_extraction.text import TfidfVectorizer\n",
    "from sklearn.metrics.pairwise import cosine_similarity"
   ]
  },
  {
   "cell_type": "code",
   "execution_count": 15,
   "id": "0dcba507-4046-40df-8fe9-31142b54c841",
   "metadata": {},
   "outputs": [],
   "source": [
    "data = {\n",
    "    'symptoms': [\n",
    "        'headache and fever',\n",
    "        'cough and sore throat',\n",
    "        'stomach ache and nausea',\n",
    "        'allergic reaction with rash',\n",
    "        'cold and runny nose',\n",
    "        'muscle pain and fatigue',\n",
    "        'chest pain and shortness of breath'\n",
    "    ],\n",
    "    'medicine': [\n",
    "        'Paracetamol',\n",
    "        'Cough Syrup',\n",
    "        'Antacid',\n",
    "        'Antihistamine',\n",
    "        'Decongestant',\n",
    "        'Ibuprofen',\n",
    "        'Aspirin'\n",
    "    ]\n",
    "}\n"
   ]
  },
  {
   "cell_type": "code",
   "execution_count": 21,
   "id": "14ea3bd6-6d1e-469e-a5bb-4c9ddfddefa5",
   "metadata": {},
   "outputs": [
    {
     "data": {
      "text/html": [
       "<div>\n",
       "<style scoped>\n",
       "    .dataframe tbody tr th:only-of-type {\n",
       "        vertical-align: middle;\n",
       "    }\n",
       "\n",
       "    .dataframe tbody tr th {\n",
       "        vertical-align: top;\n",
       "    }\n",
       "\n",
       "    .dataframe thead th {\n",
       "        text-align: right;\n",
       "    }\n",
       "</style>\n",
       "<table border=\"1\" class=\"dataframe\">\n",
       "  <thead>\n",
       "    <tr style=\"text-align: right;\">\n",
       "      <th></th>\n",
       "      <th>symptoms</th>\n",
       "      <th>medicine</th>\n",
       "    </tr>\n",
       "  </thead>\n",
       "  <tbody>\n",
       "    <tr>\n",
       "      <th>0</th>\n",
       "      <td>headache and fever</td>\n",
       "      <td>Paracetamol</td>\n",
       "    </tr>\n",
       "    <tr>\n",
       "      <th>1</th>\n",
       "      <td>cough and sore throat</td>\n",
       "      <td>Cough Syrup</td>\n",
       "    </tr>\n",
       "    <tr>\n",
       "      <th>2</th>\n",
       "      <td>stomach ache and nausea</td>\n",
       "      <td>Antacid</td>\n",
       "    </tr>\n",
       "    <tr>\n",
       "      <th>3</th>\n",
       "      <td>allergic reaction with rash</td>\n",
       "      <td>Antihistamine</td>\n",
       "    </tr>\n",
       "    <tr>\n",
       "      <th>4</th>\n",
       "      <td>cold and runny nose</td>\n",
       "      <td>Decongestant</td>\n",
       "    </tr>\n",
       "    <tr>\n",
       "      <th>5</th>\n",
       "      <td>muscle pain and fatigue</td>\n",
       "      <td>Ibuprofen</td>\n",
       "    </tr>\n",
       "    <tr>\n",
       "      <th>6</th>\n",
       "      <td>chest pain and shortness of breath</td>\n",
       "      <td>Aspirin</td>\n",
       "    </tr>\n",
       "  </tbody>\n",
       "</table>\n",
       "</div>"
      ],
      "text/plain": [
       "                             symptoms       medicine\n",
       "0                  headache and fever    Paracetamol\n",
       "1               cough and sore throat    Cough Syrup\n",
       "2             stomach ache and nausea        Antacid\n",
       "3         allergic reaction with rash  Antihistamine\n",
       "4                 cold and runny nose   Decongestant\n",
       "5             muscle pain and fatigue      Ibuprofen\n",
       "6  chest pain and shortness of breath        Aspirin"
      ]
     },
     "execution_count": 21,
     "metadata": {},
     "output_type": "execute_result"
    }
   ],
   "source": [
    "df = pd.DataFrame(data)\n",
    "df"
   ]
  },
  {
   "cell_type": "code",
   "execution_count": 23,
   "id": "29404ef1-826d-45a1-9c2d-5b0267f3fd8d",
   "metadata": {},
   "outputs": [
    {
     "data": {
      "text/plain": [
       "<7x23 sparse matrix of type '<class 'numpy.float64'>'\n",
       "\twith 29 stored elements in Compressed Sparse Row format>"
      ]
     },
     "execution_count": 23,
     "metadata": {},
     "output_type": "execute_result"
    }
   ],
   "source": [
    "# TF-IDF Vectorization\n",
    "vectorizer = TfidfVectorizer()\n",
    "X = vectorizer.fit_transform(df['symptoms'])\n",
    "X"
   ]
  },
  {
   "cell_type": "code",
   "execution_count": 29,
   "id": "44c4d02b-8d8c-477c-b83e-496636f7136a",
   "metadata": {},
   "outputs": [
    {
     "name": "stdin",
     "output_type": "stream",
     "text": [
      "Describe your symptoms:  I have cough and soar throat\n"
     ]
    },
    {
     "name": "stdout",
     "output_type": "stream",
     "text": [
      "Detected Symptoms: cough and sore throat\n",
      "Recommended Medicine: Cough Syrup\n"
     ]
    }
   ],
   "source": [
    "# Function to recommend medicine\n",
    "def recommend_medicine(user_input):\n",
    "    user_input_vec = vectorizer.transform([user_input])\n",
    "    similarity_scores = cosine_similarity(user_input_vec, X)\n",
    "    index = similarity_scores.argmax()\n",
    "    recommended = df.iloc[index]\n",
    "    print(f\"Detected Symptoms: {recommended['symptoms']}\")\n",
    "    print(f\"Recommended Medicine: {recommended['medicine']}\")\n",
    "\n",
    "# Example\n",
    "if __name__ == \"__main__\":\n",
    "    user_symptoms = input(\"Describe your symptoms: \")\n",
    "    recommend_medicine(user_symptoms)"
   ]
  },
  {
   "cell_type": "code",
   "execution_count": null,
   "id": "9e3cbbdf-a38d-4a4c-a7b2-004fd0b75ea7",
   "metadata": {},
   "outputs": [],
   "source": []
  }
 ],
 "metadata": {
  "kernelspec": {
   "display_name": "Python [conda env:New folder]",
   "language": "python",
   "name": "conda-env-New_folder-py"
  },
  "language_info": {
   "codemirror_mode": {
    "name": "ipython",
    "version": 3
   },
   "file_extension": ".py",
   "mimetype": "text/x-python",
   "name": "python",
   "nbconvert_exporter": "python",
   "pygments_lexer": "ipython3",
   "version": "3.12.7"
  }
 },
 "nbformat": 4,
 "nbformat_minor": 5
}
